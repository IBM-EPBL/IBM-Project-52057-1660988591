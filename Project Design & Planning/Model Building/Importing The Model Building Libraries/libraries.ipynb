{
  "nbformat": 4,
  "nbformat_minor": 0,
  "metadata": {
    "colab": {
      "provenance": [],
      "collapsed_sections": []
    },
    "kernelspec": {
      "name": "python3",
      "display_name": "Python 3"
    },
    "language_info": {
      "name": "python"
    }
  },
  "cells": [
    {
      "cell_type": "code",
      "execution_count": 4,
      "metadata": {
        "id": "DUWc-SDAr5j3"
      },
      "outputs": [],
      "source": [
        "import numpy as np\n",
        "import tensorflow \n",
        "from tensorflow.keras.models import Sequential \n",
        "from tensorflow.keras import layers \n",
        "from tensorflow.keras.layers import Dense,Flatten\n",
        "from tensorflow.keras.layers import Conv2D,MaxPooling2D,Dropout \n",
        "from keras.preprocessing.image import ImageDataGenerator"
      ]
    }
  ]
}