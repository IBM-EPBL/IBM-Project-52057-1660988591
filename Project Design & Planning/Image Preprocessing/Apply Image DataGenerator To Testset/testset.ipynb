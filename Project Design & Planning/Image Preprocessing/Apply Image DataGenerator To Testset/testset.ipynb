{
  "nbformat": 4,
  "nbformat_minor": 0,
  "metadata": {
    "colab": {
      "provenance": []
    },
    "kernelspec": {
      "name": "python3",
      "display_name": "Python 3"
    },
    "language_info": {
      "name": "python"
    }
  },
  "cells": [
    {
      "cell_type": "code",
      "execution_count": null,
      "metadata": {
        "id": "AMGmjclpq2Tf"
      },
      "outputs": [],
      "source": [
        "x_test = test_datagen.flow_from_directory(\n",
        "    r'/content/Dataset/TEST_SET',\n",
        "    target_size=(64, 64),batch_size=5,color_mode='rgb',class_mode='sparse')"
      ]
    },
    {
      "cell_type": "code",
      "source": [
        "print(x_test.class_indices)"
      ],
      "metadata": {
        "id": "3S6D9evRq4Tu"
      },
      "execution_count": null,
      "outputs": []
    }
  ]
}