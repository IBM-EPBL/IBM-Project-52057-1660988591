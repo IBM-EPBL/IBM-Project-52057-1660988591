{
  "nbformat": 4,
  "nbformat_minor": 0,
  "metadata": {
    "colab": {
      "provenance": [],
      "collapsed_sections": []
    },
    "kernelspec": {
      "name": "python3",
      "display_name": "Python 3"
    },
    "language_info": {
      "name": "python"
    }
  },
  "cells": [
    {
      "cell_type": "markdown",
      "source": [
        "Team Id: PNT2022TMID29438\n",
        "\n",
        "Project Name: AI-Powered Nutrition Analyzer For Fitness Enthusiasts"
      ],
      "metadata": {
        "id": "QaeAwI3OuGuU"
      }
    },
    {
      "cell_type": "markdown",
      "source": [
        "# **Model Building**\n",
        "\n"
      ],
      "metadata": {
        "id": "T83D7ZgquYmI"
      }
    },
    {
      "cell_type": "code",
      "source": [
        "from google.colab import drive\n",
        "drive.mount('/content/drive')"
      ],
      "metadata": {
        "colab": {
          "base_uri": "https://localhost:8080/"
        },
        "id": "1HWGqFktBDo0",
        "outputId": "ad9e5dc0-c078-4a03-9166-2bb41bcf4538"
      },
      "execution_count": 15,
      "outputs": [
        {
          "output_type": "stream",
          "name": "stdout",
          "text": [
            "Mounted at /content/drive\n"
          ]
        }
      ]
    },
    {
      "cell_type": "markdown",
      "source": [
        "**Importing The Model Building Libraries**"
      ],
      "metadata": {
        "id": "ZqQJRrupCVw-"
      }
    },
    {
      "cell_type": "code",
      "execution_count": 1,
      "metadata": {
        "id": "oiQh-0rut-Wk"
      },
      "outputs": [],
      "source": [
        "import numpy as np\n",
        "import tensorflow \n",
        "from tensorflow.keras.models import Sequential \n",
        "from tensorflow.keras import layers \n",
        "from tensorflow.keras.layers import Dense,Flatten\n",
        "from tensorflow.keras.layers import Conv2D,MaxPooling2D,Dropout \n",
        "from keras.preprocessing.image import ImageDataGenerator"
      ]
    },
    {
      "cell_type": "markdown",
      "source": [
        "Image Data Agumentation"
      ],
      "metadata": {
        "id": "_mI4QS4PAMJr"
      }
    },
    {
      "cell_type": "code",
      "source": [
        "train_datagen = ImageDataGenerator(rescale=1./255,shear_range=0.2,zoom_range=0.2,horizontal_flip=True)\n",
        "test_datagen=ImageDataGenerator(rescale=1./255)"
      ],
      "metadata": {
        "id": "tp39gQZLAMh5"
      },
      "execution_count": 12,
      "outputs": []
    },
    {
      "cell_type": "markdown",
      "source": [
        "Loading our data and performing data agumentation"
      ],
      "metadata": {
        "id": "RxxBCaAHAdTS"
      }
    },
    {
      "cell_type": "code",
      "source": [
        "x_train = train_datagen.flow_from_directory(\n",
        "    r'/content/drive/MyDrive/Colab Notebooks/Dataset/TRAIN_SET',\n",
        "    target_size=(64, 64),batch_size=5,color_mode='rgb',class_mode='sparse')\n",
        "\n",
        "x_test = test_datagen.flow_from_directory(\n",
        "    r'/content/drive/MyDrive/Colab Notebooks/Dataset/TEST_SET',\n",
        "    target_size=(64, 64),batch_size=5,color_mode='rgb',class_mode='sparse') "
      ],
      "metadata": {
        "colab": {
          "base_uri": "https://localhost:8080/"
        },
        "id": "5hzTMfEpAdlb",
        "outputId": "b8017773-b1c0-4081-9bb8-f8d03c9319e3"
      },
      "execution_count": 17,
      "outputs": [
        {
          "output_type": "stream",
          "name": "stdout",
          "text": [
            "Found 4138 images belonging to 5 classes.\n",
            "Found 929 images belonging to 3 classes.\n"
          ]
        }
      ]
    },
    {
      "cell_type": "markdown",
      "source": [
        "**Initializing The Model**"
      ],
      "metadata": {
        "id": "7rj2GMr0uiF2"
      }
    },
    {
      "cell_type": "code",
      "source": [
        "model = Sequential()"
      ],
      "metadata": {
        "id": "zZYRF2v8ud2c"
      },
      "execution_count": 2,
      "outputs": []
    },
    {
      "cell_type": "markdown",
      "source": [
        "**Adding CNN Layers**"
      ],
      "metadata": {
        "id": "d1t6WAl4u2kl"
      }
    },
    {
      "cell_type": "code",
      "source": [
        "classifier = Sequential()\n",
        "\n",
        "classifier.add(Conv2D(32, (3, 3), input_shape=(64, 64, 3), activation='relu'))\n",
        "classifier.add(MaxPooling2D(pool_size=(2, 2)))\n",
        "\n",
        "classifier.add(Conv2D(32, (3, 3), activation='relu'))\n",
        "\n",
        "classifier.add(MaxPooling2D(pool_size=(2, 2)))\n",
        "\n",
        "classifier.add(Flatten())"
      ],
      "metadata": {
        "id": "egOQrLvyu94O"
      },
      "execution_count": 3,
      "outputs": []
    },
    {
      "cell_type": "markdown",
      "source": [
        "**Adding Dense Layers**"
      ],
      "metadata": {
        "id": "pVtHqOLIvFtJ"
      }
    },
    {
      "cell_type": "code",
      "source": [
        "classifier.add(Dense(units=128, activation='relu'))\n",
        "classifier.add(Dense(units=5, activation='softmax'))"
      ],
      "metadata": {
        "id": "R750uYv8vDpI"
      },
      "execution_count": 4,
      "outputs": []
    },
    {
      "cell_type": "code",
      "source": [
        "classifier.summary()"
      ],
      "metadata": {
        "colab": {
          "base_uri": "https://localhost:8080/"
        },
        "id": "d55rYY0OvMqI",
        "outputId": "1939ad42-307f-49ac-d9f1-109e8a0d3ab3"
      },
      "execution_count": 5,
      "outputs": [
        {
          "output_type": "stream",
          "name": "stdout",
          "text": [
            "Model: \"sequential_1\"\n",
            "_________________________________________________________________\n",
            " Layer (type)                Output Shape              Param #   \n",
            "=================================================================\n",
            " conv2d (Conv2D)             (None, 62, 62, 32)        896       \n",
            "                                                                 \n",
            " max_pooling2d (MaxPooling2D  (None, 31, 31, 32)       0         \n",
            " )                                                               \n",
            "                                                                 \n",
            " conv2d_1 (Conv2D)           (None, 29, 29, 32)        9248      \n",
            "                                                                 \n",
            " max_pooling2d_1 (MaxPooling  (None, 14, 14, 32)       0         \n",
            " 2D)                                                             \n",
            "                                                                 \n",
            " flatten (Flatten)           (None, 6272)              0         \n",
            "                                                                 \n",
            " dense (Dense)               (None, 128)               802944    \n",
            "                                                                 \n",
            " dense_1 (Dense)             (None, 5)                 645       \n",
            "                                                                 \n",
            "=================================================================\n",
            "Total params: 813,733\n",
            "Trainable params: 813,733\n",
            "Non-trainable params: 0\n",
            "_________________________________________________________________\n"
          ]
        }
      ]
    },
    {
      "cell_type": "markdown",
      "source": [
        "**Configure The Learning Process**"
      ],
      "metadata": {
        "id": "O0Kvk7DrvTTF"
      }
    },
    {
      "cell_type": "code",
      "source": [
        "classifier.compile(optimizer='adam', loss='sparse_categorical_crossentropy', metrics=['accuracy']) "
      ],
      "metadata": {
        "id": "pTj5wGVlvXGe"
      },
      "execution_count": 8,
      "outputs": []
    },
    {
      "cell_type": "markdown",
      "source": [
        "**Train The Model**"
      ],
      "metadata": {
        "id": "qKCXkTXw8cRx"
      }
    },
    {
      "cell_type": "code",
      "source": [
        "classifier.fit_generator(\n",
        "        generator=x_train,steps_per_epoch = len(x_train),\n",
        "        epochs=10, validation_data=x_test,validation_steps = len(x_test))"
      ],
      "metadata": {
        "colab": {
          "base_uri": "https://localhost:8080/"
        },
        "id": "fsAUewn38bSJ",
        "outputId": "dd6e27fd-d6a5-4827-d01d-ea46f9da5549"
      },
      "execution_count": 18,
      "outputs": [
        {
          "output_type": "stream",
          "name": "stderr",
          "text": [
            "/usr/local/lib/python3.7/dist-packages/ipykernel_launcher.py:3: UserWarning: `Model.fit_generator` is deprecated and will be removed in a future version. Please use `Model.fit`, which supports generators.\n",
            "  This is separate from the ipykernel package so we can avoid doing imports until\n"
          ]
        },
        {
          "output_type": "stream",
          "name": "stdout",
          "text": [
            "Epoch 1/10\n",
            "828/828 [==============================] - 897s 1s/step - loss: 0.6253 - accuracy: 0.7559 - val_loss: 0.5483 - val_accuracy: 0.7922\n",
            "Epoch 2/10\n",
            "828/828 [==============================] - 32s 38ms/step - loss: 0.4281 - accuracy: 0.8391 - val_loss: 0.4750 - val_accuracy: 0.8256\n",
            "Epoch 3/10\n",
            "828/828 [==============================] - 35s 42ms/step - loss: 0.3963 - accuracy: 0.8473 - val_loss: 0.4856 - val_accuracy: 0.8149\n",
            "Epoch 4/10\n",
            "828/828 [==============================] - 33s 39ms/step - loss: 0.3550 - accuracy: 0.8695 - val_loss: 0.4088 - val_accuracy: 0.8493\n",
            "Epoch 5/10\n",
            "828/828 [==============================] - 34s 41ms/step - loss: 0.3385 - accuracy: 0.8722 - val_loss: 0.4086 - val_accuracy: 0.8385\n",
            "Epoch 6/10\n",
            "828/828 [==============================] - 33s 40ms/step - loss: 0.3211 - accuracy: 0.8826 - val_loss: 0.4009 - val_accuracy: 0.8471\n",
            "Epoch 7/10\n",
            "828/828 [==============================] - 32s 39ms/step - loss: 0.3074 - accuracy: 0.8809 - val_loss: 0.3954 - val_accuracy: 0.8504\n",
            "Epoch 8/10\n",
            "828/828 [==============================] - 34s 41ms/step - loss: 0.2885 - accuracy: 0.8886 - val_loss: 0.4160 - val_accuracy: 0.8493\n",
            "Epoch 9/10\n",
            "828/828 [==============================] - 32s 39ms/step - loss: 0.2816 - accuracy: 0.8946 - val_loss: 0.3887 - val_accuracy: 0.8547\n",
            "Epoch 10/10\n",
            "828/828 [==============================] - 34s 41ms/step - loss: 0.2519 - accuracy: 0.8995 - val_loss: 0.4493 - val_accuracy: 0.8525\n"
          ]
        },
        {
          "output_type": "execute_result",
          "data": {
            "text/plain": [
              "<keras.callbacks.History at 0x7f9339b9b710>"
            ]
          },
          "metadata": {},
          "execution_count": 18
        }
      ]
    },
    {
      "cell_type": "markdown",
      "source": [
        "**Save The Model**"
      ],
      "metadata": {
        "id": "ZDQfdogqGnk-"
      }
    },
    {
      "cell_type": "code",
      "source": [
        "classifier.save('nutrition.h5')"
      ],
      "metadata": {
        "id": "RgSHY-iGGu2_"
      },
      "execution_count": 19,
      "outputs": []
    },
    {
      "cell_type": "markdown",
      "source": [
        "**Test The Model**"
      ],
      "metadata": {
        "id": "Dqkj_AieHK0v"
      }
    },
    {
      "cell_type": "code",
      "source": [
        "from tensorflow.keras.models import load_model\n",
        "from tensorflow.keras.preprocessing import image\n",
        "import numpy as np"
      ],
      "metadata": {
        "id": "7Ny986_4HPCl"
      },
      "execution_count": 20,
      "outputs": []
    },
    {
      "cell_type": "code",
      "source": [
        "img = image.load_img(\"/content/drive/MyDrive/Colab Notebooks/Dataset/TRAIN_SET/ORANGE/n07749192_5963.jpg\",target_size= (64,64))\n",
        "img"
      ],
      "metadata": {
        "colab": {
          "base_uri": "https://localhost:8080/",
          "height": 81
        },
        "id": "jnNyY52mHaqa",
        "outputId": "b3f451ea-bea2-4414-d46e-ac39503fe0e0"
      },
      "execution_count": 21,
      "outputs": [
        {
          "output_type": "execute_result",
          "data": {
            "text/plain": [
              "<PIL.Image.Image image mode=RGB size=64x64 at 0x7F9338151F50>"
            ],
            "image/png": "[encoded data removed]"
          },
          "metadata": {},
          "execution_count": 21
        }
      ]
    },
    {
      "cell_type": "code",
      "source": [
        "x=image.img_to_array(img)"
      ],
      "metadata": {
        "id": "pkdGWJuaKofC"
      },
      "execution_count": 24,
      "outputs": []
    },
    {
      "cell_type": "code",
      "source": [
        "x"
      ],
      "metadata": {
        "colab": {
          "base_uri": "https://localhost:8080/"
        },
        "id": "NPyvizGdLELx",
        "outputId": "8aed2521-8f22-40fb-eef7-55356e5d603c"
      },
      "execution_count": 25,
      "outputs": [
        {
          "output_type": "execute_result",
          "data": {
            "text/plain": [
              "array([[[251., 239., 225.],\n",
              "        [254., 240., 227.],\n",
              "        [254., 242., 228.],\n",
              "        ...,\n",
              "        [255., 255., 253.],\n",
              "        [255., 255., 253.],\n",
              "        [255., 255., 251.]],\n",
              "\n",
              "       [[252., 240., 226.],\n",
              "        [252., 240., 226.],\n",
              "        [255., 243., 229.],\n",
              "        ...,\n",
              "        [255., 255., 253.],\n",
              "        [255., 255., 253.],\n",
              "        [255., 255., 251.]],\n",
              "\n",
              "       [[254., 242., 228.],\n",
              "        [254., 242., 228.],\n",
              "        [253., 243., 231.],\n",
              "        ...,\n",
              "        [255., 255., 253.],\n",
              "        [255., 255., 253.],\n",
              "        [255., 255., 253.]],\n",
              "\n",
              "       ...,\n",
              "\n",
              "       [[250., 223., 204.],\n",
              "        [252., 225., 204.],\n",
              "        [254., 227., 208.],\n",
              "        ...,\n",
              "        [242., 223., 216.],\n",
              "        [243., 226., 218.],\n",
              "        [243., 226., 218.]],\n",
              "\n",
              "       [[249., 227., 206.],\n",
              "        [250., 225., 205.],\n",
              "        [251., 229., 208.],\n",
              "        ...,\n",
              "        [243., 226., 218.],\n",
              "        [243., 226., 219.],\n",
              "        [245., 228., 220.]],\n",
              "\n",
              "       [[248., 225., 207.],\n",
              "        [251., 228., 210.],\n",
              "        [251., 228., 210.],\n",
              "        ...,\n",
              "        [244., 227., 220.],\n",
              "        [242., 228., 219.],\n",
              "        [246., 229., 221.]]], dtype=float32)"
            ]
          },
          "metadata": {},
          "execution_count": 25
        }
      ]
    },
    {
      "cell_type": "code",
      "source": [
        "x.ndim"
      ],
      "metadata": {
        "colab": {
          "base_uri": "https://localhost:8080/"
        },
        "id": "PBhfWuX0LKoF",
        "outputId": "6618c631-3d2e-450a-fce6-4acfe51c3198"
      },
      "execution_count": 26,
      "outputs": [
        {
          "output_type": "execute_result",
          "data": {
            "text/plain": [
              "3"
            ]
          },
          "metadata": {},
          "execution_count": 26
        }
      ]
    },
    {
      "cell_type": "code",
      "source": [
        "x=np.expand_dims(x,axis=0)"
      ],
      "metadata": {
        "id": "YHAmgK1ILP-A"
      },
      "execution_count": 27,
      "outputs": []
    },
    {
      "cell_type": "code",
      "source": [
        "x.ndim"
      ],
      "metadata": {
        "colab": {
          "base_uri": "https://localhost:8080/"
        },
        "id": "OZFmaH9QLaQb",
        "outputId": "f36d8264-075a-4888-994d-ba5fad165892"
      },
      "execution_count": 28,
      "outputs": [
        {
          "output_type": "execute_result",
          "data": {
            "text/plain": [
              "4"
            ]
          },
          "metadata": {},
          "execution_count": 28
        }
      ]
    },
    {
      "cell_type": "code",
      "source": [
        "pred = classifier.predict(x)"
      ],
      "metadata": {
        "colab": {
          "base_uri": "https://localhost:8080/"
        },
        "id": "sUyLUxlJL2f1",
        "outputId": "53c9c450-71a8-4cc1-cca0-868cf8800d63"
      },
      "execution_count": 29,
      "outputs": [
        {
          "output_type": "stream",
          "name": "stdout",
          "text": [
            "1/1 [==============================] - 0s 109ms/step\n"
          ]
        }
      ]
    },
    {
      "cell_type": "code",
      "source": [
        "pred"
      ],
      "metadata": {
        "colab": {
          "base_uri": "https://localhost:8080/"
        },
        "id": "ilE_wufbL6Pj",
        "outputId": "e95c51cf-b3b0-4d1a-9c11-4622b320970b"
      },
      "execution_count": 30,
      "outputs": [
        {
          "output_type": "execute_result",
          "data": {
            "text/plain": [
              "array([[0., 0., 1., 0., 0.]], dtype=float32)"
            ]
          },
          "metadata": {},
          "execution_count": 30
        }
      ]
    },
    {
      "cell_type": "code",
      "source": [
        "labels=['APPLES', 'BANANA', 'ORANGE','PINEAPPLE','WATERMELON']\n",
        "labels[np.argmax(pred)]"
      ],
      "metadata": {
        "colab": {
          "base_uri": "https://localhost:8080/",
          "height": 36
        },
        "id": "_zXa6ZgqKlF0",
        "outputId": "80f6ba22-522e-44f0-acaa-603281664161"
      },
      "execution_count": 31,
      "outputs": [
        {
          "output_type": "execute_result",
          "data": {
            "text/plain": [
              "'ORANGE'"
            ],
            "application/vnd.google.colaboratory.intrinsic+json": {
              "type": "string"
            }
          },
          "metadata": {},
          "execution_count": 31
        }
      ]
    }
  ]
}